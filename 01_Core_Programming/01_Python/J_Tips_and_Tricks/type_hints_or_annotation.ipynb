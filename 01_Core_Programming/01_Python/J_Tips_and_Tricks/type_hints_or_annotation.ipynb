{
 "cells": [
  {
   "cell_type": "markdown",
   "id": "e974b7bc",
   "metadata": {},
   "source": [
    "### 📌 Type Hints – Introduction\n",
    "\n",
    "In Python, we can assign any type of value to a variable because Python is dynamically typed. However, to make our code **more readable**, **understandable**, and **less error-prone**, Python introduced the concept of **type hints** (also known as type annotations).\n",
    "\n",
    "Type hints allow us to **explicitly indicate what kind of value** a variable is expected to hold. While Python won’t enforce these hints during runtime, tools like `mypy` can catch mismatches before your code runs."
   ]
  },
  {
   "cell_type": "code",
   "execution_count": 2,
   "id": "69c5bca2",
   "metadata": {},
   "outputs": [
    {
     "name": "stdout",
     "output_type": "stream",
     "text": [
      "Name is : 123\n"
     ]
    }
   ],
   "source": [
    "# Without type hint\n",
    "name = \"Maneesh\"\n",
    "\n",
    "# With type hint\n",
    "name: str = \"Maneesh\"\n",
    "\n",
    "# If you later assign an integer to name, it won't cause a runtime error, but a type checker like mypy will throw a warning.\n",
    "name = 123  # ❌ Type checker will flag this\n",
    "print(f\"Name is : {name}\")"
   ]
  },
  {
   "cell_type": "markdown",
   "id": "15571f80",
   "metadata": {},
   "source": [
    "### 🧠 Key Takeaways\n",
    "- Type hints are **not mandatory**, but **highly recommended** in professional codebases.\n",
    "- They improve **code clarity**, especially in large projects or when working with teams.\n",
    "- They help with a**utocompletion and better suggestions** in modern IDEs.\n",
    "- Python **does not enforce** type hints at runtime.\n",
    "- Primitive Type Hints like `int`, `float`, `str`, `bool` can be used directly without any imports.\n",
    "- For advanced or collection-based types, such as `List`, `Dict`, `Tuple`, `Set`, or specialized types like `Final`, `Optional`, `Union`, etc., you need to import them from the typing module.\n",
    "  \n",
    "🔸 Note: In Python 3.9+, you can also use built-in generics like list[int] instead of List[int], but it depends on the Python version and static checkers being used."
   ]
  },
  {
   "cell_type": "markdown",
   "id": "d338e43c",
   "metadata": {},
   "source": [
    "### 🚫 Common Pitfalls\n",
    "- Expecting Python to throw runtime errors on type mismatch — it won't.\n",
    "- Assuming type hints alone will make the code safe. They're just hints, not enforcement."
   ]
  }
 ],
 "metadata": {
  "kernelspec": {
   "display_name": "Python 3",
   "language": "python",
   "name": "python3"
  },
  "language_info": {
   "codemirror_mode": {
    "name": "ipython",
    "version": 3
   },
   "file_extension": ".py",
   "mimetype": "text/x-python",
   "name": "python",
   "nbconvert_exporter": "python",
   "pygments_lexer": "ipython3",
   "version": "3.11.7"
  }
 },
 "nbformat": 4,
 "nbformat_minor": 5
}
