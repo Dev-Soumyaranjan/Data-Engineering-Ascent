{
 "cells": [
  {
   "cell_type": "markdown",
   "id": "c080fee5",
   "metadata": {},
   "source": [
    "# 🐍 Snake Case vs 🦄 Camel Case\n",
    "\n",
    "In programming, **snake case** uses underscores (`_`) to separate words in a variable or function name, with all letters in lowercase.  \n",
    "**Camel case** joins words together without spaces, capitalizing the first letter of each subsequent word (the first word stays lowercase).  \n",
    "\n",
    "### 🔍 Detailed Breakdown:\n",
    "\n",
    "**🐍 Snake Case:**\n",
    "- Uses underscores (`_`) to separate words.\n",
    "- All letters are lowercase.\n",
    "- **Example:** `my_variable`, `another_function`\n",
    "\n",
    "**🦄 Camel Case:**\n",
    "- Joins words without spaces.\n",
    "- Capitalizes the first letter of each word after the first.\n",
    "- The first word is typically lowercase.\n",
    "- **Example:** `myVariable`, `anotherFunction`\n"
   ]
  },
  {
   "cell_type": "markdown",
   "id": "54bb7f77",
   "metadata": {
    "vscode": {
     "languageId": "plaintext"
    }
   },
   "source": [
    "## Variables Are Dynamically Typed\n",
    "Python does not require us to declare the type of variable explicitly.  \n",
    "It figures out the type based on the value assigned.\n",
    "\n",
    "```python\n",
    "x = 5        # integer\n",
    "y = \"Hello\"  # string\n",
    "z = 3.14     # float\n",
    "\n",
    "We can even change the type later by reassigning a different value."
   ]
  },
  {
   "cell_type": "markdown",
   "id": "0fe62293",
   "metadata": {},
   "source": [
    "# 📝 Variable Naming Rules\n",
    "\n",
    "- **Names can only start with a letter (a-z, A-Z) or an underscore (_).**\n",
    "- **Names cannot start with a number.**\n",
    "- **Names can contain letters, numbers, and underscores.**\n",
    "- **Reserved keywords** like `for`, `while`, `if`, `class`, etc. cannot be used as variable names.  \n",
    "\n",
    "### ✅ Valid names:\n",
    "```python\n",
    "age = 25\n",
    "_age = 30\n",
    "age_of_person = 40\n",
    "\n",
    "❌ Invalid names (will give error):\n",
    "python\n",
    "Copy\n",
    "Edit\n",
    "2age = 25\n",
    "for = 10"
   ]
  },
  {
   "cell_type": "markdown",
   "id": "48e7f7a7",
   "metadata": {},
   "source": [
    "🏷️ Good Practices for Naming Variables\n",
    "Use meaningful names that describe what the variable holds.\n",
    "\n",
    "Stick to snake_case for variable names (as per Python community style guide - PEP 8).\n",
    "\n",
    "🥴 Bad Naming Example:\n",
    "```python\n",
    "a = 10\n",
    "👍 Good Naming Example:\n",
    "```python\n",
    "number_of_students = 10"
   ]
  },
  {
   "cell_type": "markdown",
   "id": "3b65860a",
   "metadata": {},
   "source": [
    "🔄 Multiple Assignment in One Line\n",
    "Python allows assigning values to multiple variables in a single line.\n",
    "\n",
    "Example:\n",
    "```python\n",
    "x, y, z = 10, 20, 30\n",
    "print(x, y, z)  # Output: 10 20 30\n",
    "\n",
    "You can also assign the same value to multiple variables:\n",
    "a = b = c = 100\n",
    "print(a, b, c)  # Output: 100 100 100"
   ]
  }
 ],
 "metadata": {
  "kernelspec": {
   "display_name": "Python 3",
   "language": "python",
   "name": "python3"
  },
  "language_info": {
   "name": "python",
   "version": "3.11.7"
  }
 },
 "nbformat": 4,
 "nbformat_minor": 5
}
