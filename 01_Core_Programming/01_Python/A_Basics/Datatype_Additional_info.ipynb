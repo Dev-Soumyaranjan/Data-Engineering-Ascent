{
 "cells": [
  {
   "cell_type": "markdown",
   "id": "0679a850",
   "metadata": {},
   "source": [
    "## 🧠 Python Data Types Summary\n",
    "\n",
    "This table outlines the mutability, order, and indexing behavior of common Python data types. It's a quick reference for beginners to understand how different types behave.\n",
    "\n",
    "### 📊 Data Types: Mutability & Order\n",
    "\n",
    "| Data Type       | Mutable | Ordered | Indexed By         | Notes                                                                 |\n",
    "|------------------|---------|---------|---------------------|-----------------------------------------------------------------------|\n",
    "| `int`, `float`, `complex` | ❌ No  | ✅ Yes  | N/A                 | Immutable and represent numeric values                                |\n",
    "| `str`            | ❌ No  | ✅ Yes  | Integer index       | Strings are immutable sequences of characters                         |\n",
    "| `list`           | ✅ Yes | ✅ Yes  | Integer index       | Mutable sequence, allows duplicates                                   |\n",
    "| `tuple`          | ❌ No  | ✅ Yes  | Integer index       | Immutable sequence                                                    |\n",
    "| `range`          | ❌ No  | ✅ Yes  | Integer index       | Generates sequence of numbers, efficient memory usage                 |\n",
    "| `dict`           | ✅ Yes | ✅ Yes* | Keys (usually str)  | Key-value pairs, unique keys, insertion order preserved (Python 3.7+) |\n",
    "| `set`            | ✅ Yes | ❌ No   | N/A                 | Unordered collection of unique elements                               |\n",
    "| `frozenset`      | ❌ No  | ❌ No   | N/A                 | Immutable version of a set                                            |\n",
    "| `bool`           | ❌ No  | ✅ Yes  | N/A                 | Subclass of `int`, values are `True` and `False`                      |\n",
    "| `NoneType`       | ❌ No  | N/A     | N/A                 | Represents the absence of a value (`None`)                            |\n",
    "| `bytes`          | ❌ No  | ✅ Yes  | Integer index       | Immutable sequence of bytes                                           |\n",
    "| `bytearray`      | ✅ Yes | ✅ Yes  | Integer index       | Mutable sequence of bytes                                             |\n",
    "| `memoryview`     | ✅ Yes | ✅ Yes  | Integer index       | View/edit bytes without copying data                                  |\n",
    "\n",
    "---\n",
    "\n",
    "## 📌 Terminology\n",
    "\n",
    "- **Mutable**: Can be changed after creation.\n",
    "- **Immutable**: Cannot be changed once created.\n",
    "- **Ordered**: Maintains the order of insertion.\n",
    "- **Unordered**: Element order is not guaranteed or preserved.\n",
    "- **Indexed By**: How elements can be accessed (e.g., by integer or key).\n"
   ]
  }
 ],
 "metadata": {
  "kernelspec": {
   "display_name": "Python 3",
   "language": "python",
   "name": "python3"
  },
  "language_info": {
   "name": "python",
   "version": "3.11.7"
  }
 },
 "nbformat": 4,
 "nbformat_minor": 5
}
