{
 "cells": [
  {
   "cell_type": "markdown",
   "id": "427b0f32",
   "metadata": {
    "notebookRunGroups": {
     "groupValue": "1"
    },
    "tags": [
     "A modern & essential guide to mastering the Python programming language in 2024"
    ]
   },
   "source": [
    "# 📦 Understanding Variables - A Step Toward Reusability\n",
    "\n",
    "Reusability is an important concept not only in programming but also in our daily life.  \n",
    "It helps reduce manual effort and minimize mistakes. When we depend too much on manually changing things over and over again, there is a high chance of making errors. ⚠️\n",
    "\n",
    "In programming, **variables** provide a simple but powerful way to add a reusability layer.  \n",
    "Instead of hardcoding values multiple times, we can store them inside variables and reuse them whenever needed. 🔄  \n",
    "This makes our code cleaner, more organized, and easier to maintain in the long run. 🧹\n",
    "\n",
    "Variables are like containers 🏺 that hold values for us, making programming tasks faster, safer, and more reliable. 💪"
   ]
  },
  {
   "cell_type": "code",
   "execution_count": 1,
   "id": "ca47c5de",
   "metadata": {
    "notebookRunGroups": {
     "groupValue": "1"
    },
    "tags": [
     "A modern & essential guide to mastering the Python programming language in 2024"
    ]
   },
   "outputs": [
    {
     "name": "stdout",
     "output_type": "stream",
     "text": [
      "Hello Soumyaranjan\n",
      "Hello Maneesh\n",
      "Hello Apollo\n"
     ]
    }
   ],
   "source": [
    "greet = \"Hello \"\n",
    "\n",
    "print(greet + \"Soumyaranjan\")\n",
    "print(greet + \"Maneesh\")\n",
    "print(greet + \"Apollo\")"
   ]
  },
  {
   "cell_type": "markdown",
   "id": "d8d0b598",
   "metadata": {
    "tags": [
     "A modern & essential guide to mastering the Python programming language in 2024"
    ]
   },
   "source": [
    "# 🔄 Reusability with Variables\n",
    "\n",
    "Here, the `greet` variable plays the role of reusability.  \n",
    "Instead of writing `\"Hello\"` again and again, we can store it inside a variable and use it anywhere in the script. 📝\n",
    "\n",
    "If we ever want to change `greet` from `\"Hello\"` to something else,  \n",
    "we don't need to update it everywhere manually.  \n",
    "We just have to change it at the place where it was initialized, and it will automatically update in all the places where it has been used across the script. 🔄"
   ]
  },
  {
   "cell_type": "markdown",
   "id": "0a723e0c",
   "metadata": {
    "tags": [
     "A modern & essential guide to mastering the Python programming language in 2024"
    ]
   },
   "source": [
    "# 🐍 Python's Strictness: Syntax, Indentation, and Case Sensitivity\n",
    "\n",
    "Another very important thing to understand is that Python is a strict language when it comes to **syntax** 📝, **indentation** ➡️, and **case sensitivity** 🔠.\n",
    "\n",
    "Python is case-sensitive, which means it treats uppercase and lowercase letters differently.  \n",
    "Because of this, the same word with different letter cases will be considered two different variables. ⚠️"
   ]
  },
  {
   "cell_type": "code",
   "execution_count": 2,
   "id": "b1a99a2f",
   "metadata": {
    "tags": [
     "A modern & essential guide to mastering the Python programming language in 2024"
    ]
   },
   "outputs": [
    {
     "name": "stdout",
     "output_type": "stream",
     "text": [
      "Hello Soumyaranjan\n",
      "Bye Maneesh\n"
     ]
    }
   ],
   "source": [
    "greet = 'Hello '\n",
    "grEEt = 'Bye '\n",
    "\n",
    "print(greet + 'Soumyaranjan')\n",
    "print(grEEt + 'Maneesh')"
   ]
  },
  {
   "cell_type": "code",
   "execution_count": 3,
   "id": "dbb3f8d1",
   "metadata": {
    "tags": [
     "A modern & essential guide to mastering the Python programming language in 2024"
    ]
   },
   "outputs": [],
   "source": [
    "# Variable should start with either letter or underscore\n",
    "\n",
    "#1stvar = 'first invalid Variable'\n",
    "#$secondvar = 'second invalid'\n",
    "_firstNumber = 14 # It's a valid variable initialization\n",
    "# If we have to use multiple words in a single variable then at that case we should use underscore between the words i.e.\n",
    "\n",
    "total_sum = 35\n",
    "temporary_account_name = 'Dlique'"
   ]
  }
 ],
 "metadata": {
  "kernelspec": {
   "display_name": "Python 3",
   "language": "python",
   "name": "python3"
  },
  "language_info": {
   "codemirror_mode": {
    "name": "ipython",
    "version": 3
   },
   "file_extension": ".py",
   "mimetype": "text/x-python",
   "name": "python",
   "nbconvert_exporter": "python",
   "pygments_lexer": "ipython3",
   "version": "3.11.7"
  }
 },
 "nbformat": 4,
 "nbformat_minor": 5
}
