{
 "cells": [
  {
   "cell_type": "markdown",
   "id": "28fb3a20",
   "metadata": {},
   "source": [
    "# 🔐 Constants in Python\n",
    "\n",
    "Sometimes in programming, you come across situations where you need a value that should **stay the same** throughout your script. That’s where the idea of a **constant** comes into play.\n",
    "\n",
    "In many programming languages, there’s usually a specific keyword like `const` or `final` to define constants. But Python works a bit differently.\n",
    "\n",
    "## ✅ How Constants Work in Python\n",
    "\n",
    "Python does **not** have a built-in keyword to declare constants. Instead, it follows a **naming convention**:\n",
    "\n",
    "> To declare a constant in Python, name the variable using **all uppercase letters**.\n",
    "\n",
    "## 📖 Real-Life Analogy\n",
    "Think of G = 9.8 as how we treat physical constants in science. We don’t change them casually. Similarly, in Python, constants are values you agree not to modify throughout the program.\n"
   ]
  },
  {
   "cell_type": "code",
   "execution_count": null,
   "id": "49730fa1",
   "metadata": {},
   "outputs": [
    {
     "name": "stdout",
     "output_type": "stream",
     "text": [
      "The force due to gravity is 735.0 N\n"
     ]
    }
   ],
   "source": [
    "# Define a constant for gravity\n",
    "G = 9.8  # acceleration due to gravity in m/s²\n",
    "\n",
    "# Using G in a formula: Force = mass * gravity\n",
    "mass = 75  # kg\n",
    "force = mass * G\n",
    "\n",
    "print(f\"The force due to gravity is {force} N\")"
   ]
  },
  {
   "cell_type": "markdown",
   "id": "19f8c8eb",
   "metadata": {},
   "source": [
    "## ⚠️ Important Note: Python's Dynamic Nature\n",
    "\n",
    "Since Python is a **dynamically typed language**, it doesn’t enforce strict rules on variable types or values.  \n",
    "This means that **even if you declare a constant using uppercase letters**, Python will still **allow you to reassign a new value** to it.\n",
    "\n",
    "But regardless of this, we can give other programmers a **strong hint** that a particular value **should not change** by using the **uppercase naming convention**.  \n",
    "This is a widely accepted practice, and most developers will **treat such variables as constants** out of discipline and readability."
   ]
  },
  {
   "cell_type": "code",
   "execution_count": null,
   "id": "b8204e16",
   "metadata": {},
   "outputs": [
    {
     "name": "stdout",
     "output_type": "stream",
     "text": [
      "The updated force due to gravity is 307.5 N\n"
     ]
    }
   ],
   "source": [
    "# Updating the value of G. But in other programming language it will even not allow to update it and will throw error if we try.\n",
    "G = 4.1 \n",
    "force = mass * G\n",
    "\n",
    "print(f\"The updated force due to gravity is {force} N\")"
   ]
  }
 ],
 "metadata": {
  "kernelspec": {
   "display_name": "Python 3",
   "language": "python",
   "name": "python3"
  },
  "language_info": {
   "codemirror_mode": {
    "name": "ipython",
    "version": 3
   },
   "file_extension": ".py",
   "mimetype": "text/x-python",
   "name": "python",
   "nbconvert_exporter": "python",
   "pygments_lexer": "ipython3",
   "version": "3.11.7"
  }
 },
 "nbformat": 4,
 "nbformat_minor": 5
}
