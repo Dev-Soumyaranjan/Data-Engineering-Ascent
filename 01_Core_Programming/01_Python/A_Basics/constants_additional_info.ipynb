{
 "cells": [
  {
   "cell_type": "markdown",
   "id": "0f81192d",
   "metadata": {},
   "source": [
    "## 🧩 Optional (Advanced) – Not Mandatory, But Nice to Know\n",
    "\n",
    "### Using `typing.Final` (Python 3.8+)\n",
    "\n",
    "Starting from Python 3.8, you can use `Final` from the `typing` module to signal that a variable is intended to be a constant. While this doesn't make the value immutable at runtime, it helps static type checkers (like `mypy`) raise warnings if the constant is modified.\n",
    "\n",
    "```python\n",
    "from typing import Final\n",
    "\n",
    "G: Final = 9.81\n",
    "```\n",
    "\n",
    "### Constants in Modules\n",
    "In larger projects, constants are often placed in a separate file (e.g., constants.py). These constants are then imported wherever they are needed, providing better organization and maintainability.\n",
    "\n",
    "For example, you might have a `constants`.py file with all constant values:\n",
    "\n",
    "# constants.py\n",
    "```python\n",
    "G = 9.81\n",
    "PI = 3.14159\n",
    "```\n",
    "\n",
    "And then import them as needed in the main code:\n",
    "\n",
    "``` python\n",
    "from constants import G, PI\n",
    "```\n",
    "This helps in keeping constants organized and easily manageable."
   ]
  },
  {
   "cell_type": "code",
   "execution_count": 1,
   "id": "2fa46215",
   "metadata": {},
   "outputs": [
    {
     "name": "stdout",
     "output_type": "stream",
     "text": [
      "Perimeter of the cirlce is 43.981\n"
     ]
    }
   ],
   "source": [
    "from typing import Final\n",
    "\n",
    "PI : Final = 3.1415\n",
    "\n",
    "circle_radius = 7\n",
    "perimeter = 2 * PI * circle_radius\n",
    "\n",
    "print(f\"Perimeter of the cirlce is {perimeter}\")"
   ]
  },
  {
   "cell_type": "code",
   "execution_count": 3,
   "id": "dce58ee1",
   "metadata": {},
   "outputs": [
    {
     "name": "stdout",
     "output_type": "stream",
     "text": [
      "Perimeter of the cirlce is 630\n"
     ]
    }
   ],
   "source": [
    "PI = 45\n",
    "\n",
    "perimeter = 2 * PI * circle_radius\n",
    "\n",
    "print(f\"Perimeter of the cirlce is {perimeter}\")"
   ]
  },
  {
   "cell_type": "markdown",
   "id": "27ac8738",
   "metadata": {},
   "source": [
    "### 🚨 Why `Final` Warnings Are Not Shown in Jupyter Notebooks or VS Code's Run Button\n",
    "\n",
    "When you use the `Final` type from the `typing` module, you're signaling that the value of a variable should not be changed. However, when you run your Python script in Jupyter notebooks or through VS Code's \"Run\" button, you **won’t see any warning** if you try to reassign a `Final` constant.\n",
    "\n",
    "For example, you might have a script that looks like this:\n",
    "\n",
    "```python\n",
    "from typing import Final\n",
    "\n",
    "PI: Final = 3.1415\n",
    "PI = 45  # No warning shown when using VS Code or Jupyter!\n",
    "```\n",
    "This happens because:\n",
    "\n",
    "1. **Static Type Checking vs Runtime Execution**:\n",
    "\n",
    "   - Tools like **mypy** provide static type checking, which **does not happen automatically** during runtime. These tools need to be explicitly run in the command line (`mypy filename.py`), and that's when they analyze the code for violations of type hints like `Final`.\n",
    "\n",
    "2. **Running Python Code in VS Code or Jupyter**:\n",
    "\n",
    "   - When you run your code in an editor like **VS Code** or in a **Jupyter notebook**, you're executing the Python interpreter. This means that Python **will not check types** during execution unless specifically instructed to do so.\n",
    "\n",
    "   - The **\"Run\"** button in VS Code or Jupyter executes the code using Python, which doesn't have any built-in support for **static type checking** or enforcing `Final` constants.\n",
    "\n",
    "### How to See the Warning?\n",
    "To actually see the warning from `mypy`, you need to run the following command in your terminal (after installing `mypy`):\n",
    "\n",
    "``` bash\n",
    "mypy filename.py\n",
    "```\n",
    "This command will check your file for type-related issues and raise a warning if you attempt to reassign a Final constant."
   ]
  }
 ],
 "metadata": {
  "kernelspec": {
   "display_name": "Python 3",
   "language": "python",
   "name": "python3"
  },
  "language_info": {
   "codemirror_mode": {
    "name": "ipython",
    "version": 3
   },
   "file_extension": ".py",
   "mimetype": "text/x-python",
   "name": "python",
   "nbconvert_exporter": "python",
   "pygments_lexer": "ipython3",
   "version": "3.11.7"
  }
 },
 "nbformat": 4,
 "nbformat_minor": 5
}
