{
 "cells": [
  {
   "cell_type": "markdown",
   "id": "e73af401",
   "metadata": {},
   "source": [
    "## 📌 Concept: Python Data Types Overview\n",
    "\n",
    "Python has various built-in data types that define the kind of value a variable holds. These data types allow Python to handle different kinds of data and operations efficiently."
   ]
  },
  {
   "cell_type": "code",
   "execution_count": null,
   "id": "edc3974b",
   "metadata": {},
   "outputs": [
    {
     "name": "stdout",
     "output_type": "stream",
     "text": [
      " Number : 45\n",
      " Decimal : 3.19\n",
      " Complex : (5+7j)\n"
     ]
    }
   ],
   "source": [
    "#🔢  Numeric Data types\n",
    "'''\n",
    "Any number-related data comes under this type. It includes whole numbers (int), decimals (float), and complex numbers (complex) that are used mostly in scientific calculations.\n",
    "'''\n",
    "#🔹Integer (`int`) - Represents whole numbers, both positive and negative.\n",
    "mynum = 45\n",
    "\n",
    "#🔸 Float (`float`) - Used to represent real numbers (i.e., numbers with decimal points).\n",
    "\n",
    "my_dec = 3.19\n",
    "\n",
    "#🔹 **Complex (`complex`) - Used for scientific/mathematical calculations involving imaginary numbers.\n",
    "\n",
    "my_complex_num = 5 + 7j\n",
    "\n",
    "# Printing all numbers of numeric data types\n",
    "print(f\" Number : {mynum}\\n Decimal : {my_dec}\\n Complex : {my_complex_num}\")"
   ]
  },
  {
   "cell_type": "code",
   "execution_count": null,
   "id": "03907b9c",
   "metadata": {},
   "outputs": [
    {
     "name": "stdout",
     "output_type": "stream",
     "text": [
      " List : [1, 2, 3, 'apple']\n",
      " Tuple : (1, 2, 3)\n",
      " Range : range(1, 11)\n",
      "Range value : [1, 2, 3, 4, 5, 6, 7, 8, 9, 10]\n"
     ]
    }
   ],
   "source": [
    "#📚 Sequence Types\n",
    "'''\n",
    "These are data types where items are stored one after another, and we can access them by index. It includes list, tuple, and range.\n",
    "'''\n",
    "#🔹List (`list`) - An ordered, mutable collection of items.\n",
    "\n",
    "my_list = [1, 2, 3, \"apple\"]\n",
    "\n",
    "#🔸Tuple (`tuple`) - Similar to a list, but immutable. Once created, it cannot be modified.\n",
    "\n",
    "my_tuple = (1, 2, 3)\n",
    "\n",
    "#🔹Range (`range`) - Represents a sequence of numbers, commonly used in loops.\n",
    "\n",
    "num_range = range(1, 11) # gives numbers from 1 to 11 (end exclusive - 11 will not included)\n",
    "\n",
    "# Printing all Sequence data types\n",
    "print(f\" List : {my_list}\\n Tuple : {my_tuple}\\n Range : {num_range}\") \n",
    "\n",
    "# range(1, 11) creates a range object, which is a memory-efficient way to represent a sequence.\n",
    "# It doesn't automatically print all numbers; instead, it just shows the range boundaries.\n",
    "# To view all the values inside it, convert it to a list using list(range_object/variable) or use a loop/list comprehension.\n",
    "\n",
    "print(f\"Range value : {list(num_range)}\")\n"
   ]
  },
  {
   "cell_type": "code",
   "execution_count": 9,
   "id": "6e971d22",
   "metadata": {},
   "outputs": [
    {
     "name": "stdout",
     "output_type": "stream",
     "text": [
      "{'name': 'John', 'age': 30}\n"
     ]
    }
   ],
   "source": [
    "# 🧭 Mapping Type\n",
    "'''dict is the main mapping type in Python. It stores data as key-value pairs, like a mini-database inside your program.'''\n",
    "\n",
    "#🔸 Dictionary (`dict`) - A collection of key-value pairs, similar to JSON.\n",
    "\n",
    "user = {\"name\": \"John\", \"age\": 30}\n",
    "\n",
    "# Printing dictionary\n",
    "print(user)"
   ]
  },
  {
   "cell_type": "code",
   "execution_count": null,
   "id": "50043819",
   "metadata": {},
   "outputs": [
    {
     "name": "stdout",
     "output_type": "stream",
     "text": [
      "Set : {1, 2, 3}\n",
      "Set after adding: {1, 2, 3, 4}\n",
      "Frozenset: frozenset({1, 2, 3})\n"
     ]
    }
   ],
   "source": [
    "# Set Types\n",
    "#🔹 Set (`set`) - Unordered collection with no duplicates. Elements can be of different types.\n",
    "\n",
    "my_set = {1, 2, 3, 3} # → will store only `{1, 2, 3}`\n",
    "\n",
    "# _Note_: The order of elements is not guaranteed.\n",
    "\n",
    "#🔸FrozenSet (`frozenset`) - An immutable version of a set. Once defined, it cannot be changed.\n",
    "\n",
    "my_set = {1, 2, 3}\n",
    "my_frozenset = frozenset(my_set)\n",
    "\n",
    "# printing set\n",
    "print(f\"Set : {my_set}\")\n",
    "\n",
    "# How frozenset differs from set\n",
    "\n",
    "# Set: Mutable\n",
    "my_set.add(4)         # Works fine\n",
    "print(\"Set after adding:\", my_set)  # Output: {1, 2, 3, 4}\n",
    "\n",
    "# Frozenset: Immutable\n",
    "# my_frozenset.add(4)   ❌ This will raise an AttributeError\n",
    "print(\"Frozenset:\", my_frozenset)\n",
    "\n"
   ]
  },
  {
   "cell_type": "markdown",
   "id": "c583ea9a",
   "metadata": {},
   "source": [
    "### 📌 Concept: Type Conversion in Python\n",
    "Type conversion allows us to convert one data type to another, which is essential when mixing types in expressions."
   ]
  },
  {
   "cell_type": "code",
   "execution_count": null,
   "id": "3fb04a18",
   "metadata": {},
   "outputs": [
    {
     "name": "stdout",
     "output_type": "stream",
     "text": [
      "z is  15\n",
      "m + n =  10100\n"
     ]
    }
   ],
   "source": [
    "x = \"10\"\n",
    "y = 5\n",
    "\n",
    "# Convert string to int before addition\n",
    "z = int(x) + y  # z = 15\n",
    "print(\"z is \",z)\n",
    "\n",
    "m = 10\n",
    "n = '100'\n",
    "\n",
    "#Always convert to the right type before performing operations.\n",
    "print(\"m + n = \",str(m)+n) # Since we convert the data type of int to string of variable m so now it only concatenates 10 and 100\n",
    "\n",
    "# print(m + n) # ❌ TypeError: can’t concatenate str and int"
   ]
  },
  {
   "cell_type": "markdown",
   "id": "2d5cee0d",
   "metadata": {},
   "source": [
    "### 🧠 Key Takeaway\n",
    "- Use `int()`, `float()`, `str()`, etc., to convert explicitly.\n",
    "- Use `type()` to check the current type of any variable."
   ]
  },
  {
   "cell_type": "code",
   "execution_count": 17,
   "id": "1e0db812",
   "metadata": {},
   "outputs": [
    {
     "name": "stdout",
     "output_type": "stream",
     "text": [
      "<class 'int'>\n"
     ]
    }
   ],
   "source": [
    "# Print the type of z\n",
    "print(type(z))"
   ]
  }
 ],
 "metadata": {
  "kernelspec": {
   "display_name": "Python 3",
   "language": "python",
   "name": "python3"
  },
  "language_info": {
   "codemirror_mode": {
    "name": "ipython",
    "version": 3
   },
   "file_extension": ".py",
   "mimetype": "text/x-python",
   "name": "python",
   "nbconvert_exporter": "python",
   "pygments_lexer": "ipython3",
   "version": "3.11.7"
  }
 },
 "nbformat": 4,
 "nbformat_minor": 5
}
